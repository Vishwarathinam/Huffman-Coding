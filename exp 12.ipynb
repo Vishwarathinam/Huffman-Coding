{
 "cells": [
  {
   "cell_type": "code",
   "execution_count": 1,
   "id": "a04deeb4",
   "metadata": {},
   "outputs": [],
   "source": [
    "string = ('vishwa Rathinam 212221240063')"
   ]
  },
  {
   "cell_type": "code",
   "execution_count": 2,
   "id": "f2f2b528",
   "metadata": {},
   "outputs": [],
   "source": [
    "class NodeTree(object):\n",
    "\n",
    "    def __init__(self,left=None,right=None):\n",
    "        self.left = left\n",
    "        self.right =right\n",
    "\n",
    "    def children(self):\n",
    "        return (self.left, self.right)"
   ]
  },
  {
   "cell_type": "code",
   "execution_count": 3,
   "id": "4ecd45ef",
   "metadata": {},
   "outputs": [],
   "source": [
    "#Main function implementing huffman coding\n",
    "\n",
    "def huffman_code_tree (node, left=True, binString=''):\n",
    "    if type(node) is str:\n",
    "        return {node: binString}\n",
    "    (l, r) = node.children()\n",
    "    d = dict()\n",
    "    d.update(huffman_code_tree (l, True, binString + '0'))\n",
    "    d.update(huffman_code_tree (r, False, binString + '1'))\n",
    "    return d"
   ]
  },
  {
   "cell_type": "code",
   "execution_count": 4,
   "id": "0a660dbb",
   "metadata": {},
   "outputs": [],
   "source": [
    "#Calculating frequency\n",
    "\n",
    "freq = {}\n",
    "for c in string:\n",
    "    if c in freq:\n",
    "        freq[c] += 1\n",
    "    else:\n",
    "        freq[c] = 1\n",
    "freq = sorted(freq.items(), key=lambda x: x[1], reverse=True)\n",
    "nodes=freq"
   ]
  },
  {
   "cell_type": "code",
   "execution_count": 5,
   "id": "15f540ad",
   "metadata": {},
   "outputs": [],
   "source": [
    "while len(nodes)>1:\n",
    "    (key1,c1)=nodes[-1]\n",
    "    (key2,c2)=nodes[-2]\n",
    "    nodes = nodes[:-2]\n",
    "    node = NodeTree (key1, key2)\n",
    "    nodes.append((node,c1 + c2))\n",
    "    nodes = sorted (nodes, key=lambda x: x[1], reverse=True)"
   ]
  },
  {
   "cell_type": "code",
   "execution_count": 6,
   "id": "d8528cee",
   "metadata": {},
   "outputs": [
    {
     "name": "stdout",
     "output_type": "stream",
     "text": [
      " Char | Huffman code \n",
      "----------------------\n",
      "'2' |          00\n",
      "'a' |         010\n",
      "'i' |        0111\n",
      "'h' |        0110\n",
      "' ' |        1101\n",
      "'1' |        1100\n",
      "'0' |        1111\n",
      "'v' |       10101\n",
      "'s' |       10100\n",
      "'w' |       10111\n",
      "'R' |       10110\n",
      "'t' |       10001\n",
      "'n' |       10000\n",
      "'m' |       10011\n",
      "'4' |       10010\n",
      "'6' |       11101\n",
      "'3' |       11100\n"
     ]
    }
   ],
   "source": [
    "huffmanCode=huffman_code_tree(nodes[0][0])\n",
    "print(' Char | Huffman code ') \n",
    "print('----------------------')\n",
    "for (char, frequency) in freq:\n",
    "    print('%-4r|%12s'%(char,huffmanCode[char]))"
   ]
  },
  {
   "cell_type": "code",
   "execution_count": null,
   "id": "a33fda49",
   "metadata": {},
   "outputs": [],
   "source": [
    "\n",
    "\n"
   ]
  }
 ],
 "metadata": {
  "kernelspec": {
   "display_name": "Python 3 (ipykernel)",
   "language": "python",
   "name": "python3"
  },
  "language_info": {
   "codemirror_mode": {
    "name": "ipython",
    "version": 3
   },
   "file_extension": ".py",
   "mimetype": "text/x-python",
   "name": "python",
   "nbconvert_exporter": "python",
   "pygments_lexer": "ipython3",
   "version": "3.9.13"
  }
 },
 "nbformat": 4,
 "nbformat_minor": 5
}
